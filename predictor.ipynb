{
 "cells": [
  {
   "cell_type": "code",
   "execution_count": 1,
   "metadata": {},
   "outputs": [],
   "source": [
    "import pandas as pd\n",
    "import numpy as np\n",
    "import matplotlib.pyplot as plt\n",
    "from datetime import date  \n",
    "from datetime import timedelta  \n",
    "from sklearn import preprocessing\n",
    "from scipy.stats import kurtosis, skew\n",
    "from scipy.signal import find_peaks\n",
    "#from sklearn.datasets import load_breast_cancer\n",
    "from sklearn.model_selection import train_test_split\n",
    "from sklearn.naive_bayes import GaussianNB\n",
    "from sklearn.metrics import accuracy_score\n",
    "from sklearn.feature_selection import SelectFromModel\n",
    "from sklearn.preprocessing import OneHotEncoder\n",
    "from sklearn.metrics import accuracy_score, f1_score, precision_score, recall_score, classification_report, confusion_matrix"
   ]
  },
  {
   "cell_type": "markdown",
   "metadata": {},
   "source": [
    "## definitions"
   ]
  },
  {
   "cell_type": "code",
   "execution_count": 2,
   "metadata": {},
   "outputs": [],
   "source": [
    "def getFeatures(a):\n",
    "    min = np.amin(a)\n",
    "    max = np.amax(a)\n",
    "    mean = np.mean(a)\n",
    "    std = np.std(a)\n",
    "    return min, max, mean, std\n",
    "\n",
    "def getEDAStats(a):\n",
    "    skewness = skew(a)\n",
    "    kurt = kurtosis(a)\n",
    "    return skewness, kurt"
   ]
  },
  {
   "cell_type": "code",
   "execution_count": 3,
   "metadata": {},
   "outputs": [],
   "source": [
    "user='DF'"
   ]
  },
  {
   "cell_type": "markdown",
   "metadata": {},
   "source": [
    "## combiner"
   ]
  },
  {
   "cell_type": "code",
   "execution_count": 4,
   "metadata": {},
   "outputs": [],
   "source": [
    "importPath=f'C:\\\\Users\\\\TSA\\\\Desktop\\\\Summer2020\\\\stress_Summer_2020\\\\OGH\\\\{user}'\n",
    "exportPath = f'C:\\\\Users\\\\TSA\\\\Desktop\\\\Summer2020\\\\stress_Summer_2020\\\\OGH\\\\{user}'"
   ]
  },
  {
   "cell_type": "code",
   "execution_count": 5,
   "metadata": {},
   "outputs": [],
   "source": [
    "rightedaDataPath = importPath+'\\\\EDA.csv'\n",
    "righthrDatapath = importPath+'\\\\HR.csv'\n",
    "righttempDatapath = importPath+'\\\\TEMP.csv'"
   ]
  },
  {
   "cell_type": "code",
   "execution_count": 6,
   "metadata": {},
   "outputs": [],
   "source": [
    "rightedaData = np.loadtxt(rightedaDataPath, delimiter=',')\n",
    "righthrData = np.loadtxt(righthrDatapath, delimiter= ',')\n",
    "righttempData = np.loadtxt(righttempDatapath, delimiter= ',')\n",
    "righthrData= np.repeat(righthrData,4)\n",
    "np.savetxt('righthrData.csv', righthrData, delimiter=',') \n",
    "np.savetxt('rightedaData.csv', rightedaData, delimiter=',')\n",
    "np.savetxt('righttempData.csv', righttempData, delimiter=',')"
   ]
  },
  {
   "cell_type": "code",
   "execution_count": 7,
   "metadata": {},
   "outputs": [
    {
     "name": "stdout",
     "output_type": "stream",
     "text": [
      "1617137900.0\n",
      "22863\n"
     ]
    }
   ],
   "source": [
    "edat=pd.read_csv('rightedaData.csv',header=2)\n",
    "hrt=pd.read_csv('righthrData.csv',header=12)\n",
    "tempt=pd.read_csv('righttempData.csv',header=2)\n",
    "gt=pd.read_csv('rightedaData.csv',header=None)\n",
    "#print(gt.head())\n",
    "generaltime=gt.iloc[0,0]\n",
    "print(generaltime)\n",
    "a=min(len(edat),len(hrt),len(tempt))\n",
    "print(a)\n",
    "edat=edat.iloc[3:a,:]\n",
    "hrt=hrt.iloc[3:a,:]\n",
    "tempt=tempt.iloc[3:a,:]"
   ]
  },
  {
   "cell_type": "code",
   "execution_count": 8,
   "metadata": {},
   "outputs": [
    {
     "data": {
      "text/html": [
       "<div>\n",
       "<style scoped>\n",
       "    .dataframe tbody tr th:only-of-type {\n",
       "        vertical-align: middle;\n",
       "    }\n",
       "\n",
       "    .dataframe tbody tr th {\n",
       "        vertical-align: top;\n",
       "    }\n",
       "\n",
       "    .dataframe thead th {\n",
       "        text-align: right;\n",
       "    }\n",
       "</style>\n",
       "<table border=\"1\" class=\"dataframe\">\n",
       "  <thead>\n",
       "    <tr style=\"text-align: right;\">\n",
       "      <th></th>\n",
       "      <th>0.000000000000000000e+00</th>\n",
       "      <th>hr</th>\n",
       "      <th>temp</th>\n",
       "    </tr>\n",
       "  </thead>\n",
       "  <tbody>\n",
       "    <tr>\n",
       "      <th>3</th>\n",
       "      <td>0.453509</td>\n",
       "      <td>69.67</td>\n",
       "      <td>34.18</td>\n",
       "    </tr>\n",
       "    <tr>\n",
       "      <th>4</th>\n",
       "      <td>0.430450</td>\n",
       "      <td>69.67</td>\n",
       "      <td>34.18</td>\n",
       "    </tr>\n",
       "    <tr>\n",
       "      <th>5</th>\n",
       "      <td>0.385611</td>\n",
       "      <td>69.67</td>\n",
       "      <td>34.18</td>\n",
       "    </tr>\n",
       "    <tr>\n",
       "      <th>6</th>\n",
       "      <td>0.352302</td>\n",
       "      <td>69.67</td>\n",
       "      <td>34.18</td>\n",
       "    </tr>\n",
       "    <tr>\n",
       "      <th>7</th>\n",
       "      <td>0.426606</td>\n",
       "      <td>73.50</td>\n",
       "      <td>34.15</td>\n",
       "    </tr>\n",
       "  </tbody>\n",
       "</table>\n",
       "</div>"
      ],
      "text/plain": [
       "   0.000000000000000000e+00     hr   temp\n",
       "3                  0.453509  69.67  34.18\n",
       "4                  0.430450  69.67  34.18\n",
       "5                  0.385611  69.67  34.18\n",
       "6                  0.352302  69.67  34.18\n",
       "7                  0.426606  73.50  34.15"
      ]
     },
     "execution_count": 8,
     "metadata": {},
     "output_type": "execute_result"
    }
   ],
   "source": [
    "edat['hr'] = hrt\n",
    "edat['temp'] = tempt\n",
    "edat.head()"
   ]
  },
  {
   "cell_type": "code",
   "execution_count": null,
   "metadata": {},
   "outputs": [],
   "source": []
  },
  {
   "cell_type": "code",
   "execution_count": 9,
   "metadata": {},
   "outputs": [
    {
     "name": "stdout",
     "output_type": "stream",
     "text": [
      "DF\n"
     ]
    }
   ],
   "source": [
    "print(user)\n",
    "#data_original = pd.read_csv((importPath+user+'.csv'))\n",
    "data_original = edat\n",
    "array = data_original.values\n",
    "#scalar = preprocessing.MinMaxScaler()\n",
    "#x_scaled = scalar.fit_transform(array)\n",
    "data = pd.DataFrame(array)\n",
    "data.columns = ['EDA','HR','temp']\n",
    "length = len(data['EDA'])\n",
    "fdf = pd.DataFrame(columns=['EDA_Mean','EDA_Min','EDA_Max','EDA_Std', 'EDA_Kurtosis','EDA_Skew','EDA_Num_Peaks','EDA_Amphitude','EDA_Duration','HR_Mean','HR_Min','HR_Max','HR_Std','HR_RMS','temp_Mean','temp_Min','temp_Max','temp_Std'])\n",
    "index = 0\n",
    "for i in range(0,length, 20):\n",
    "    partialDF = data.iloc[i:i+40,]\n",
    "    plen = len(partialDF['EDA'])\n",
    "\n",
    "\n",
    "    if plen < 40:\n",
    "        continue\n",
    "\n",
    "    eda = partialDF['EDA'].values\n",
    "    hr = partialDF['HR'].values\n",
    "    temp = partialDF['temp'].values\n",
    "\n",
    "    eda_min, eda_max, eda_mean, eda_std = getFeatures(eda)\n",
    "    hr_min, hr_max, hr_mean, hr_std = getFeatures(hr)\n",
    "    temp_min, temp_max, temp_mean, temp_std = getFeatures(temp)\n",
    "    eda_skew, eda_kurtosis = getEDAStats(eda)\n",
    "    hr_rms = np.sqrt(np.mean(np.square(np.ediff1d(hr))))\n",
    "    temp_rms= np.sqrt(np.mean(np.square(np.ediff1d(temp))))\n",
    "\n",
    "\n",
    "    peaks,properties = find_peaks(eda, width=5)\n",
    "    num_Peaks = len(peaks)\n",
    "    prominences = np.array(properties['prominences'])\n",
    "    widths = np.array(properties['widths'])\n",
    "    amphitude = np.sum(prominences)\n",
    "    duration = np.sum(widths)\n",
    "\n",
    "    \n",
    "\n",
    "\n",
    "    fdf.loc[index] = [eda_mean, eda_min, eda_max, eda_std, eda_kurtosis, eda_skew, num_Peaks, amphitude, duration, hr_mean, hr_min, hr_max, hr_std,hr_rms, temp_mean, temp_min, temp_max, temp_std]\n",
    "\n",
    "    index = index+1\n",
    "\n",
    "fdf.to_csv(('notscaled'+user+'.csv'),index=False)"
   ]
  },
  {
   "cell_type": "code",
   "execution_count": 10,
   "metadata": {},
   "outputs": [
    {
     "data": {
      "text/html": [
       "<div>\n",
       "<style scoped>\n",
       "    .dataframe tbody tr th:only-of-type {\n",
       "        vertical-align: middle;\n",
       "    }\n",
       "\n",
       "    .dataframe tbody tr th {\n",
       "        vertical-align: top;\n",
       "    }\n",
       "\n",
       "    .dataframe thead th {\n",
       "        text-align: right;\n",
       "    }\n",
       "</style>\n",
       "<table border=\"1\" class=\"dataframe\">\n",
       "  <thead>\n",
       "    <tr style=\"text-align: right;\">\n",
       "      <th></th>\n",
       "      <th>EDA_Mean</th>\n",
       "      <th>EDA_Min</th>\n",
       "      <th>EDA_Max</th>\n",
       "      <th>EDA_Std</th>\n",
       "      <th>EDA_Kurtosis</th>\n",
       "      <th>EDA_Skew</th>\n",
       "      <th>EDA_Num_Peaks</th>\n",
       "      <th>EDA_Amphitude</th>\n",
       "      <th>EDA_Duration</th>\n",
       "      <th>HR_Mean</th>\n",
       "      <th>HR_Min</th>\n",
       "      <th>HR_Max</th>\n",
       "      <th>HR_Std</th>\n",
       "      <th>HR_RMS</th>\n",
       "      <th>temp_Mean</th>\n",
       "      <th>temp_Min</th>\n",
       "      <th>temp_Max</th>\n",
       "      <th>temp_Std</th>\n",
       "    </tr>\n",
       "  </thead>\n",
       "  <tbody>\n",
       "    <tr>\n",
       "      <th>0</th>\n",
       "      <td>0.518872</td>\n",
       "      <td>0.289795</td>\n",
       "      <td>0.799673</td>\n",
       "      <td>0.099022</td>\n",
       "      <td>0.306888</td>\n",
       "      <td>0.300115</td>\n",
       "      <td>1.0</td>\n",
       "      <td>0.023059</td>\n",
       "      <td>5.333276</td>\n",
       "      <td>105.416</td>\n",
       "      <td>69.67</td>\n",
       "      <td>136.00</td>\n",
       "      <td>24.529179</td>\n",
       "      <td>4.253031</td>\n",
       "      <td>34.194</td>\n",
       "      <td>34.13</td>\n",
       "      <td>34.25</td>\n",
       "      <td>0.040546</td>\n",
       "    </tr>\n",
       "    <tr>\n",
       "      <th>1</th>\n",
       "      <td>0.536855</td>\n",
       "      <td>0.289795</td>\n",
       "      <td>0.622881</td>\n",
       "      <td>0.065555</td>\n",
       "      <td>3.099069</td>\n",
       "      <td>-1.534156</td>\n",
       "      <td>1.0</td>\n",
       "      <td>0.102488</td>\n",
       "      <td>14.831965</td>\n",
       "      <td>134.514</td>\n",
       "      <td>115.50</td>\n",
       "      <td>144.18</td>\n",
       "      <td>9.030825</td>\n",
       "      <td>1.846512</td>\n",
       "      <td>34.180</td>\n",
       "      <td>34.13</td>\n",
       "      <td>34.25</td>\n",
       "      <td>0.036606</td>\n",
       "    </tr>\n",
       "    <tr>\n",
       "      <th>2</th>\n",
       "      <td>0.524685</td>\n",
       "      <td>0.474274</td>\n",
       "      <td>0.583167</td>\n",
       "      <td>0.028417</td>\n",
       "      <td>-0.876903</td>\n",
       "      <td>0.272496</td>\n",
       "      <td>2.0</td>\n",
       "      <td>0.080710</td>\n",
       "      <td>13.178559</td>\n",
       "      <td>142.463</td>\n",
       "      <td>138.23</td>\n",
       "      <td>144.18</td>\n",
       "      <td>1.857262</td>\n",
       "      <td>0.579929</td>\n",
       "      <td>34.158</td>\n",
       "      <td>34.13</td>\n",
       "      <td>34.18</td>\n",
       "      <td>0.017776</td>\n",
       "    </tr>\n",
       "    <tr>\n",
       "      <th>3</th>\n",
       "      <td>0.502938</td>\n",
       "      <td>0.474274</td>\n",
       "      <td>0.521674</td>\n",
       "      <td>0.012512</td>\n",
       "      <td>-0.977635</td>\n",
       "      <td>-0.188274</td>\n",
       "      <td>2.0</td>\n",
       "      <td>0.066617</td>\n",
       "      <td>14.016685</td>\n",
       "      <td>140.730</td>\n",
       "      <td>136.44</td>\n",
       "      <td>144.00</td>\n",
       "      <td>2.729978</td>\n",
       "      <td>0.449689</td>\n",
       "      <td>34.159</td>\n",
       "      <td>34.13</td>\n",
       "      <td>34.18</td>\n",
       "      <td>0.015780</td>\n",
       "    </tr>\n",
       "    <tr>\n",
       "      <th>4</th>\n",
       "      <td>0.483626</td>\n",
       "      <td>0.446090</td>\n",
       "      <td>0.520393</td>\n",
       "      <td>0.022642</td>\n",
       "      <td>-1.274910</td>\n",
       "      <td>-0.026586</td>\n",
       "      <td>1.0</td>\n",
       "      <td>0.033308</td>\n",
       "      <td>8.171460</td>\n",
       "      <td>136.415</td>\n",
       "      <td>133.53</td>\n",
       "      <td>140.22</td>\n",
       "      <td>2.133163</td>\n",
       "      <td>0.370035</td>\n",
       "      <td>34.158</td>\n",
       "      <td>34.15</td>\n",
       "      <td>34.18</td>\n",
       "      <td>0.008718</td>\n",
       "    </tr>\n",
       "  </tbody>\n",
       "</table>\n",
       "</div>"
      ],
      "text/plain": [
       "   EDA_Mean   EDA_Min   EDA_Max   EDA_Std  EDA_Kurtosis  EDA_Skew  \\\n",
       "0  0.518872  0.289795  0.799673  0.099022      0.306888  0.300115   \n",
       "1  0.536855  0.289795  0.622881  0.065555      3.099069 -1.534156   \n",
       "2  0.524685  0.474274  0.583167  0.028417     -0.876903  0.272496   \n",
       "3  0.502938  0.474274  0.521674  0.012512     -0.977635 -0.188274   \n",
       "4  0.483626  0.446090  0.520393  0.022642     -1.274910 -0.026586   \n",
       "\n",
       "   EDA_Num_Peaks  EDA_Amphitude  EDA_Duration  HR_Mean  HR_Min  HR_Max  \\\n",
       "0            1.0       0.023059      5.333276  105.416   69.67  136.00   \n",
       "1            1.0       0.102488     14.831965  134.514  115.50  144.18   \n",
       "2            2.0       0.080710     13.178559  142.463  138.23  144.18   \n",
       "3            2.0       0.066617     14.016685  140.730  136.44  144.00   \n",
       "4            1.0       0.033308      8.171460  136.415  133.53  140.22   \n",
       "\n",
       "      HR_Std    HR_RMS  temp_Mean  temp_Min  temp_Max  temp_Std  \n",
       "0  24.529179  4.253031     34.194     34.13     34.25  0.040546  \n",
       "1   9.030825  1.846512     34.180     34.13     34.25  0.036606  \n",
       "2   1.857262  0.579929     34.158     34.13     34.18  0.017776  \n",
       "3   2.729978  0.449689     34.159     34.13     34.18  0.015780  \n",
       "4   2.133163  0.370035     34.158     34.15     34.18  0.008718  "
      ]
     },
     "execution_count": 10,
     "metadata": {},
     "output_type": "execute_result"
    }
   ],
   "source": [
    "df=pd.read_csv('notscaled'+user+'.csv')\n",
    "df.head()"
   ]
  },
  {
   "cell_type": "code",
   "execution_count": 11,
   "metadata": {},
   "outputs": [],
   "source": [
    "dataframe=pd.DataFrame(columns=['30','29','28','27','26','25','24','23','22','21','20','19','18','17','16','15','14','13','12','11','10','9','8','7','6','5','4','3','2','1'])\n",
    "dataframe = pd.concat([df['EDA_Mean'].shift(30), df['EDA_Mean'].shift(29),df['EDA_Mean'].shift(28),\n",
    "                      df['EDA_Mean'].shift(27), df['EDA_Mean'].shift(26),df['EDA_Mean'].shift(25),\n",
    "                      df['EDA_Mean'].shift(24), df['EDA_Mean'].shift(23),df['EDA_Mean'].shift(22),\n",
    "                      df['EDA_Mean'].shift(21), df['EDA_Mean'].shift(20),df['EDA_Mean'].shift(19),\n",
    "                      df['EDA_Mean'].shift(18), df['EDA_Mean'].shift(17),df['EDA_Mean'].shift(16),\n",
    "                      df['EDA_Mean'].shift(15), df['EDA_Mean'].shift(14),df['EDA_Mean'].shift(13),\n",
    "                      df['EDA_Mean'].shift(12), df['EDA_Mean'].shift(11),df['EDA_Mean'].shift(10),\n",
    "                      df['EDA_Mean'].shift(9), df['EDA_Mean'].shift(8),df['EDA_Mean'].shift(7),\n",
    "                      df['EDA_Mean'].shift(6), df['EDA_Mean'].shift(5),df['EDA_Mean'].shift(4),\n",
    "                      df['EDA_Mean'].shift(3), df['EDA_Mean'].shift(2),df['EDA_Mean'].shift(1)], axis=1)\n",
    "dataframe.columns=columns=['30','29','28','27','26','25','24','23','22','21','20','19','18','17','16','15','14','13','12','11','10','9','8','7','6','5','4','3','2','1']\n",
    "dataframe=dataframe.dropna()"
   ]
  },
  {
   "cell_type": "code",
   "execution_count": 12,
   "metadata": {},
   "outputs": [
    {
     "data": {
      "text/plain": [
       "(1112, 30)"
      ]
     },
     "execution_count": 12,
     "metadata": {},
     "output_type": "execute_result"
    }
   ],
   "source": [
    "dataframe.shape"
   ]
  },
  {
   "cell_type": "code",
   "execution_count": 13,
   "metadata": {},
   "outputs": [],
   "source": [
    "df1=df.iloc[30:3238,0:31]\n",
    "df=pd.concat([dataframe,df1],axis=1)"
   ]
  },
  {
   "cell_type": "code",
   "execution_count": 14,
   "metadata": {},
   "outputs": [],
   "source": [
    "df.to_csv('combinedNS'+user+'.csv',index=False)"
   ]
  },
  {
   "cell_type": "code",
   "execution_count": 15,
   "metadata": {},
   "outputs": [
    {
     "name": "stdout",
     "output_type": "stream",
     "text": [
      "(12445, 48)\n",
      "(12445, 1)\n"
     ]
    }
   ],
   "source": [
    "df=pd.read_csv('combined_lagEDA.csv')\n",
    "train_set=df.iloc[:,0:48]\n",
    "labels=df.iloc[:,48:49]\n",
    "print(train_set.shape)\n",
    "print(labels.shape)"
   ]
  },
  {
   "cell_type": "code",
   "execution_count": 16,
   "metadata": {},
   "outputs": [
    {
     "name": "stderr",
     "output_type": "stream",
     "text": [
      "C:\\Users\\TSA\\.conda\\envs\\tf\\lib\\site-packages\\ipykernel_launcher.py:12: DataConversionWarning: A column-vector y was passed when a 1d array was expected. Please change the shape of y to (n_samples,), for example using ravel().\n",
      "  if sys.path[0] == '':\n"
     ]
    },
    {
     "name": "stdout",
     "output_type": "stream",
     "text": [
      "acc= 0.95154614073533\n",
      "pre= 0.9510498621957951\n",
      "recall= 0.9334901891045808\n",
      "f1 0.9411565030190694\n"
     ]
    }
   ],
   "source": [
    "from sklearn.ensemble import RandomForestClassifier\n",
    "\n",
    "#Create a Gaussian Classifier\n",
    "clf=RandomForestClassifier(n_estimators=100,max_depth=15)\n",
    "\n",
    "# Split our data\n",
    "train, test, train_labels, test_labels = train_test_split(train_set,\n",
    "                                                          labels,\n",
    "                                                          test_size=0.33,\n",
    "                                                          random_state=30)\n",
    "#Train the model using the training sets y_pred=clf.predict(X_test)\n",
    "clf.fit(train,train_labels)\n",
    "\n",
    "y_pred=clf.predict(test)\n",
    "    #print(accuracy_score(test_labels, y_pred))\n",
    "f1score=f1_score(test_labels, y_pred, average=\"macro\")\n",
    "recall=recall_score(test_labels, y_pred, average=\"macro\")\n",
    "precision=precision_score(test_labels, y_pred, average=\"macro\")\n",
    "accuracy=accuracy_score(test_labels, y_pred)\n",
    "print('acc=',accuracy)\n",
    "print('pre=',precision)\n",
    "print('recall=',recall) \n",
    "print('f1',f1score)"
   ]
  },
  {
   "cell_type": "code",
   "execution_count": 17,
   "metadata": {},
   "outputs": [],
   "source": [
    "df01=pd.read_csv('combinedNS'+user+'.csv')\n",
    "scalar = preprocessing.MinMaxScaler()\n",
    "x_scaled = scalar.fit_transform(df01)\n",
    "data = pd.DataFrame(x_scaled)\n",
    "data=data.fillna(0)\n",
    "#partial_df=scalar.transform(df01.iloc[:,0:48])\n",
    "pred_t=clf.predict(data)\n",
    "pred_t=pd.DataFrame(pred_t)\n",
    "pred_t.columns=['pred']\n",
    "pred_t.head(30)\n",
    "pred_t.to_csv('pred'+user+'.csv')"
   ]
  },
  {
   "cell_type": "code",
   "execution_count": 18,
   "metadata": {},
   "outputs": [
    {
     "data": {
      "text/html": [
       "<div>\n",
       "<style scoped>\n",
       "    .dataframe tbody tr th:only-of-type {\n",
       "        vertical-align: middle;\n",
       "    }\n",
       "\n",
       "    .dataframe tbody tr th {\n",
       "        vertical-align: top;\n",
       "    }\n",
       "\n",
       "    .dataframe thead th {\n",
       "        text-align: right;\n",
       "    }\n",
       "</style>\n",
       "<table border=\"1\" class=\"dataframe\">\n",
       "  <thead>\n",
       "    <tr style=\"text-align: right;\">\n",
       "      <th></th>\n",
       "      <th>30</th>\n",
       "      <th>29</th>\n",
       "      <th>28</th>\n",
       "      <th>27</th>\n",
       "      <th>26</th>\n",
       "      <th>25</th>\n",
       "      <th>24</th>\n",
       "      <th>23</th>\n",
       "      <th>22</th>\n",
       "      <th>21</th>\n",
       "      <th>...</th>\n",
       "      <th>HR_Mean</th>\n",
       "      <th>HR_Min</th>\n",
       "      <th>HR_Max</th>\n",
       "      <th>HR_Std</th>\n",
       "      <th>HR_RMS</th>\n",
       "      <th>temp_Mean</th>\n",
       "      <th>temp_Min</th>\n",
       "      <th>temp_Max</th>\n",
       "      <th>temp_Std</th>\n",
       "      <th>pred</th>\n",
       "    </tr>\n",
       "  </thead>\n",
       "  <tbody>\n",
       "    <tr>\n",
       "      <th>0</th>\n",
       "      <td>0.518872</td>\n",
       "      <td>0.536855</td>\n",
       "      <td>0.524685</td>\n",
       "      <td>0.502938</td>\n",
       "      <td>0.483626</td>\n",
       "      <td>0.450637</td>\n",
       "      <td>0.449164</td>\n",
       "      <td>0.461110</td>\n",
       "      <td>0.456274</td>\n",
       "      <td>0.438531</td>\n",
       "      <td>...</td>\n",
       "      <td>102.085</td>\n",
       "      <td>100.98</td>\n",
       "      <td>103.40</td>\n",
       "      <td>0.780554</td>\n",
       "      <td>0.131031</td>\n",
       "      <td>33.843</td>\n",
       "      <td>33.83</td>\n",
       "      <td>33.87</td>\n",
       "      <td>0.014177</td>\n",
       "      <td>0.0</td>\n",
       "    </tr>\n",
       "    <tr>\n",
       "      <th>1</th>\n",
       "      <td>0.536855</td>\n",
       "      <td>0.524685</td>\n",
       "      <td>0.502938</td>\n",
       "      <td>0.483626</td>\n",
       "      <td>0.450637</td>\n",
       "      <td>0.449164</td>\n",
       "      <td>0.461110</td>\n",
       "      <td>0.456274</td>\n",
       "      <td>0.438531</td>\n",
       "      <td>0.412397</td>\n",
       "      <td>...</td>\n",
       "      <td>103.651</td>\n",
       "      <td>102.15</td>\n",
       "      <td>105.37</td>\n",
       "      <td>1.023889</td>\n",
       "      <td>0.173383</td>\n",
       "      <td>33.842</td>\n",
       "      <td>33.83</td>\n",
       "      <td>33.87</td>\n",
       "      <td>0.014697</td>\n",
       "      <td>0.0</td>\n",
       "    </tr>\n",
       "    <tr>\n",
       "      <th>2</th>\n",
       "      <td>0.524685</td>\n",
       "      <td>0.502938</td>\n",
       "      <td>0.483626</td>\n",
       "      <td>0.450637</td>\n",
       "      <td>0.449164</td>\n",
       "      <td>0.461110</td>\n",
       "      <td>0.456274</td>\n",
       "      <td>0.438531</td>\n",
       "      <td>0.412397</td>\n",
       "      <td>0.390170</td>\n",
       "      <td>...</td>\n",
       "      <td>105.481</td>\n",
       "      <td>103.75</td>\n",
       "      <td>107.07</td>\n",
       "      <td>1.075430</td>\n",
       "      <td>0.180313</td>\n",
       "      <td>33.851</td>\n",
       "      <td>33.83</td>\n",
       "      <td>33.87</td>\n",
       "      <td>0.015780</td>\n",
       "      <td>0.0</td>\n",
       "    </tr>\n",
       "    <tr>\n",
       "      <th>3</th>\n",
       "      <td>0.502938</td>\n",
       "      <td>0.483626</td>\n",
       "      <td>0.450637</td>\n",
       "      <td>0.449164</td>\n",
       "      <td>0.461110</td>\n",
       "      <td>0.456274</td>\n",
       "      <td>0.438531</td>\n",
       "      <td>0.412397</td>\n",
       "      <td>0.390170</td>\n",
       "      <td>0.375053</td>\n",
       "      <td>...</td>\n",
       "      <td>107.043</td>\n",
       "      <td>105.73</td>\n",
       "      <td>107.78</td>\n",
       "      <td>0.704671</td>\n",
       "      <td>0.132510</td>\n",
       "      <td>33.846</td>\n",
       "      <td>33.84</td>\n",
       "      <td>33.87</td>\n",
       "      <td>0.012000</td>\n",
       "      <td>0.0</td>\n",
       "    </tr>\n",
       "    <tr>\n",
       "      <th>4</th>\n",
       "      <td>0.483626</td>\n",
       "      <td>0.450637</td>\n",
       "      <td>0.449164</td>\n",
       "      <td>0.461110</td>\n",
       "      <td>0.456274</td>\n",
       "      <td>0.438531</td>\n",
       "      <td>0.412397</td>\n",
       "      <td>0.390170</td>\n",
       "      <td>0.375053</td>\n",
       "      <td>0.360000</td>\n",
       "      <td>...</td>\n",
       "      <td>107.683</td>\n",
       "      <td>107.38</td>\n",
       "      <td>107.78</td>\n",
       "      <td>0.104120</td>\n",
       "      <td>0.053253</td>\n",
       "      <td>33.842</td>\n",
       "      <td>33.83</td>\n",
       "      <td>33.87</td>\n",
       "      <td>0.009798</td>\n",
       "      <td>0.0</td>\n",
       "    </tr>\n",
       "  </tbody>\n",
       "</table>\n",
       "<p>5 rows × 49 columns</p>\n",
       "</div>"
      ],
      "text/plain": [
       "         30        29        28        27        26        25        24  \\\n",
       "0  0.518872  0.536855  0.524685  0.502938  0.483626  0.450637  0.449164   \n",
       "1  0.536855  0.524685  0.502938  0.483626  0.450637  0.449164  0.461110   \n",
       "2  0.524685  0.502938  0.483626  0.450637  0.449164  0.461110  0.456274   \n",
       "3  0.502938  0.483626  0.450637  0.449164  0.461110  0.456274  0.438531   \n",
       "4  0.483626  0.450637  0.449164  0.461110  0.456274  0.438531  0.412397   \n",
       "\n",
       "         23        22        21  ...  HR_Mean  HR_Min  HR_Max    HR_Std  \\\n",
       "0  0.461110  0.456274  0.438531  ...  102.085  100.98  103.40  0.780554   \n",
       "1  0.456274  0.438531  0.412397  ...  103.651  102.15  105.37  1.023889   \n",
       "2  0.438531  0.412397  0.390170  ...  105.481  103.75  107.07  1.075430   \n",
       "3  0.412397  0.390170  0.375053  ...  107.043  105.73  107.78  0.704671   \n",
       "4  0.390170  0.375053  0.360000  ...  107.683  107.38  107.78  0.104120   \n",
       "\n",
       "     HR_RMS  temp_Mean  temp_Min  temp_Max  temp_Std  pred  \n",
       "0  0.131031     33.843     33.83     33.87  0.014177   0.0  \n",
       "1  0.173383     33.842     33.83     33.87  0.014697   0.0  \n",
       "2  0.180313     33.851     33.83     33.87  0.015780   0.0  \n",
       "3  0.132510     33.846     33.84     33.87  0.012000   0.0  \n",
       "4  0.053253     33.842     33.83     33.87  0.009798   0.0  \n",
       "\n",
       "[5 rows x 49 columns]"
      ]
     },
     "execution_count": 18,
     "metadata": {},
     "output_type": "execute_result"
    }
   ],
   "source": [
    "df01['pred']=pred_t\n",
    "df01.to_csv('pred'+user+'.csv')\n",
    "df01.head()"
   ]
  },
  {
   "cell_type": "code",
   "execution_count": null,
   "metadata": {},
   "outputs": [],
   "source": []
  },
  {
   "cell_type": "code",
   "execution_count": 19,
   "metadata": {},
   "outputs": [],
   "source": [
    "#plt.plot(df01.iloc[:,48:49])\n",
    "df01['MA_3'] = np.ceil(df01.iloc[:,48:49].rolling(window=31).mean())\n",
    "#plt.plot(df01['MA_3'])\n",
    "#df01['MA_3'].head(100)\n"
   ]
  },
  {
   "cell_type": "code",
   "execution_count": 20,
   "metadata": {
    "scrolled": true
   },
   "outputs": [
    {
     "name": "stderr",
     "output_type": "stream",
     "text": [
      "C:\\Users\\TSA\\.conda\\envs\\tf\\lib\\site-packages\\scipy\\signal\\_peak_finding.py:77: RuntimeWarning: invalid value encountered in greater\n",
      "  results &= comparator(main, plus)\n",
      "C:\\Users\\TSA\\.conda\\envs\\tf\\lib\\site-packages\\scipy\\signal\\_peak_finding.py:78: RuntimeWarning: invalid value encountered in greater\n",
      "  results &= comparator(main, minus)\n"
     ]
    },
    {
     "data": {
      "image/png": "[encoded data removed]",
      "text/plain": [
       "<Figure size 720x432 with 1 Axes>"
      ]
     },
     "metadata": {
      "needs_background": "light"
     },
     "output_type": "display_data"
    },
    {
     "name": "stdout",
     "output_type": "stream",
     "text": [
      "[235, 360, 395, 600, 640, 695, 1112]\n"
     ]
    }
   ],
   "source": [
    "import matplotlib.pyplot as plt\n",
    "import ruptures as rpt\n",
    "signal=df01.iloc[:,49:50].values\n",
    "#algo = rpt.Pelt(model=\"l2\").fit(signal)\n",
    "algo = rpt.Window(model=\"l2\", width=40).fit(signal)\n",
    "result = algo.predict(n_bkps=30)\n",
    "#result = algo.predict(pen=1)\n",
    "rpt.display(signal, result, figsize=(10, 6))\n",
    "plt.title('Change Point Detection: Pelt Search Method')\n",
    "plt.show()\n",
    "print(result)\n",
    "# detection\n",
    "#"
   ]
  },
  {
   "cell_type": "code",
   "execution_count": 29,
   "metadata": {},
   "outputs": [
    {
     "name": "stdout",
     "output_type": "stream",
     "text": [
      "235 395 1\n",
      "395 695 2.0\n",
      "695 1112 2.0\n"
     ]
    },
    {
     "data": {
      "text/plain": [
       "(3, 3)"
      ]
     },
     "execution_count": 29,
     "metadata": {},
     "output_type": "execute_result"
    }
   ],
   "source": [
    "tempstart = 0\n",
    "tempend = result[0]\n",
    "#print(result)\n",
    "stress = []\n",
    "for i in range (len(result)-1):\n",
    "    \n",
    "    temp = df01.iloc[result[i]:(result[i+1]-1),48:49].mean()[0]\n",
    "    \n",
    "    if temp>1.6:\n",
    "        temp = 2.0\n",
    "    elif temp>=.65:\n",
    "        temp = 1\n",
    "    else:\n",
    "        temp = 0\n",
    "    #print(temp, result[i],(result[i+1]-1))\n",
    "    #print(temp[0], temp.shape)\n",
    "    stress.append(temp)\n",
    "#print(len(result), len(stress))\n",
    "tdf = pd.DataFrame(columns=['start', 'end', 'stress'])\n",
    "dfi=0\n",
    "stress = list(stress)\n",
    "for i in range(len(result)-1):\n",
    "    stressLength = (result[i+1]-result[i])/12\n",
    "    #print(stressLength)\n",
    "    startPoint = result[i]\n",
    "    endPoint = result[i+1]\n",
    "    stressval = stress[i] \n",
    "    j=1\n",
    "    while(True):\n",
    "        currbreak = i+j\n",
    "        if((currbreak+1)<len(result)):\n",
    "            nextStressLength = (result[currbreak+1]-result[currbreak])/12\n",
    "            if(nextStressLength<=5):\n",
    "                endPoint = result[currbreak+1]\n",
    "                j = j+1\n",
    "                #print(j)\n",
    "            else:\n",
    "                break\n",
    "        else:\n",
    "             break\n",
    "    i = i+j+1\n",
    "    #print(tempend,startPoint, endPoint)\n",
    "    if tempend <= startPoint:\n",
    "        tempend = endPoint\n",
    "        print(startPoint, endPoint, stressval)\n",
    "        tdf.loc[dfi] = [startPoint, endPoint, stressval]\n",
    "        dfi = dfi +1\n",
    "        \n",
    "    #print(i)        \n",
    "tdf.shape "
   ]
  },
  {
   "cell_type": "markdown",
   "metadata": {},
   "source": [
    "## DATE Time"
   ]
  },
  {
   "cell_type": "code",
   "execution_count": 30,
   "metadata": {
    "scrolled": true
   },
   "outputs": [
    {
     "name": "stdout",
     "output_type": "stream",
     "text": [
      "0:13:20 2021-03-30 16:17:55 2021-03-30 16:31:15 1\n",
      "0:13:20 2021-03-30 16:31:15 2021-03-30 17:31:00 2.0\n"
     ]
    }
   ],
   "source": [
    "from datetime import datetime\n",
    "stressStart = 0\n",
    "stressEnd = 0\n",
    "tse =0\n",
    "previousStress = -1\n",
    "for index, row in tdf.iterrows():\n",
    "    #print(row)\n",
    "    if row['stress']==previousStress:\n",
    "        stressEnd = row['end']\n",
    "    else:\n",
    "        if(previousStress!=-1):\n",
    "            start = datetime.fromtimestamp(generaltime+stressStart*5)\n",
    "            end = datetime.fromtimestamp(generaltime+stressEnd*5)\n",
    "            timediff = end - start\n",
    "\n",
    "            print(timediff, datetime.fromtimestamp(generaltime+stressStart*5), datetime.fromtimestamp(generaltime+stressEnd*5), previousStress)\n",
    "        stressStart = row['start']\n",
    "        stressEnd = row['end']\n",
    "        previousStress = row['stress']\n",
    "        #int(1586788313+result[i-1]*5\n",
    "print(timediff, datetime.fromtimestamp(generaltime+stressStart*5), datetime.fromtimestamp(generaltime+stressEnd*5), previousStress)"
   ]
  },
  {
   "cell_type": "code",
   "execution_count": null,
   "metadata": {},
   "outputs": [],
   "source": []
  }
 ],
 "metadata": {
  "kernelspec": {
   "display_name": "Python 3",
   "language": "python",
   "name": "python3"
  },
  "language_info": {
   "codemirror_mode": {
    "name": "ipython",
    "version": 3
   },
   "file_extension": ".py",
   "mimetype": "text/x-python",
   "name": "python",
   "nbconvert_exporter": "python",
   "pygments_lexer": "ipython3",
   "version": "3.7.6"
  }
 },
 "nbformat": 4,
 "nbformat_minor": 4
}
